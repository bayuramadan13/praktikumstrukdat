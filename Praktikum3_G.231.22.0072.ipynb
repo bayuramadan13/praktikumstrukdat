{
  "nbformat": 4,
  "nbformat_minor": 0,
  "metadata": {
    "colab": {
      "provenance": []
    },
    "kernelspec": {
      "name": "python3",
      "display_name": "Python 3"
    },
    "language_info": {
      "name": "python"
    }
  },
  "cells": [
    {
      "cell_type": "markdown",
      "source": [
        "Bayu Ramadan G.231.22.0072/B1"
      ],
      "metadata": {
        "id": "yy5ikrHCTY2u"
      }
    },
    {
      "cell_type": "code",
      "execution_count": 2,
      "metadata": {
        "colab": {
          "base_uri": "https://localhost:8080/"
        },
        "id": "HORF-WNENmhP",
        "outputId": "76625336-3e49-4d58-db7e-ef1949f08687"
      },
      "outputs": [
        {
          "output_type": "stream",
          "name": "stdout",
          "text": [
            "geeksforgeeks\n"
          ]
        }
      ],
      "source": [
        "def convert (s) :\n",
        "\n",
        "    new = \"\"\n",
        "    for x in s :\n",
        "        new += x\n",
        "\n",
        "    return new\n",
        "\n",
        "# driver code\n",
        "s = ['g','e','e','k','s','f','o','r','g','e','e','k','s']\n",
        "print(convert (s))"
      ]
    },
    {
      "cell_type": "code",
      "source": [
        "def konvert(input):\n",
        "    result = ''.join(input)\n",
        "    return result\n",
        "\n",
        "input = ['p', 'r', 'o', 'g', 'r', 'a', 'm', 'm', 'i', 'n', 'g']\n",
        "\n",
        "print(konvert(input))\n"
      ],
      "metadata": {
        "colab": {
          "base_uri": "https://localhost:8080/"
        },
        "id": "apRY45QzSbNA",
        "outputId": "2967fec1-ecf2-4f66-ec41-cf1a7ffc2531"
      },
      "execution_count": 9,
      "outputs": [
        {
          "output_type": "stream",
          "name": "stdout",
          "text": [
            "programming\n"
          ]
        }
      ]
    }
  ]
}
