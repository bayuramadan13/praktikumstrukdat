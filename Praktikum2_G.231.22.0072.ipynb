{
  "nbformat": 4,
  "nbformat_minor": 0,
  "metadata": {
    "colab": {
      "provenance": []
    },
    "kernelspec": {
      "name": "python3",
      "display_name": "Python 3"
    },
    "language_info": {
      "name": "python"
    }
  },
  "cells": [
    {
      "cell_type": "code",
      "execution_count": null,
      "metadata": {
        "colab": {
          "base_uri": "https://localhost:8080/"
        },
        "id": "pJyzrUjMLPKx",
        "outputId": "231e5399-318d-4c4d-e0a4-9df8690dc257"
      },
      "outputs": [
        {
          "output_type": "stream",
          "name": "stdout",
          "text": [
            "[1, 5, 4, 2, 8, 10, 3]\n",
            "[1, 2, 4, 5, 8, 10, 3]\n",
            "[1, 2, 3, 5, 8, 10, 4]\n",
            "[1, 2, 3, 4, 8, 10, 5]\n",
            "[1, 2, 3, 4, 5, 10, 8]\n",
            "[1, 2, 3, 4, 5, 8, 10]\n",
            "[1, 2, 3, 4, 5, 8, 10]\n"
          ]
        }
      ],
      "source": [
        "def selectionSort(alist):\n",
        " for slot in range(0,len(alist)-1):\n",
        "  position=slot\n",
        "  for location in range(slot+1,len(alist)):\n",
        "    if alist[location]<alist[position]:\n",
        "      position = location\n",
        "  temp = alist[slot]\n",
        "  alist[slot] = alist[position]\n",
        "  alist[position] = temp\n",
        "  print(alist)\n",
        "angka = [5,1,4,2,8,10,3]\n",
        "selectionSort(angka)\n",
        "print(angka)"
      ]
    },
    {
      "cell_type": "code",
      "source": [
        "def insertionSort(angka):\n",
        "\tn = len(angka)\n",
        "\n",
        "\tif n <= 1:\n",
        "\t\treturn\n",
        "\n",
        "\tfor i in range(1, n):\n",
        "\t\tkey = angka[i]\n",
        "\t\tj = i-1\n",
        "\t\twhile j >= 0 and key < angka[j]:\n",
        "\t\t\tangka[j+1] = angka[j]\n",
        "\t\t\tj -= 1\n",
        "\t\tangka[j+1] = key\n",
        "angka= [12, 11, 13, 5, 6]\n",
        "insertionSort(angka)\n",
        "print(angka)\n"
      ],
      "metadata": {
        "colab": {
          "base_uri": "https://localhost:8080/"
        },
        "id": "9dJpGkKf18L2",
        "outputId": "e1a1e4da-b419-48ff-a209-dd32a9549e90"
      },
      "execution_count": 9,
      "outputs": [
        {
          "output_type": "stream",
          "name": "stdout",
          "text": [
            "[5, 6, 11, 12, 13]\n"
          ]
        }
      ]
    },
    {
      "cell_type": "code",
      "source": [
        "def selectionSort(array, size):\n",
        "\n",
        "    for ind in range(size):\n",
        "        min_index = ind\n",
        "\n",
        "        for j in range(ind + 1, size):\n",
        "            if array[j] < array[min_index]:\n",
        "                min_index = j\n",
        "        (array[ind], array[min_index]) = (array[min_index], array[ind])\n",
        "\n",
        "angka = [-2, 45, 0, 11, -9,88,-97,-202,747]\n",
        "size = len(angka)\n",
        "selectionSort(angka, size)\n",
        "print(angka)"
      ],
      "metadata": {
        "colab": {
          "base_uri": "https://localhost:8080/"
        },
        "id": "EJy5swXa19CY",
        "outputId": "6064e3cc-c25c-410f-fe73-9f7e9d3284c6"
      },
      "execution_count": 11,
      "outputs": [
        {
          "output_type": "stream",
          "name": "stdout",
          "text": [
            "[-202, -97, -9, -2, 0, 11, 45, 88, 747]\n"
          ]
        }
      ]
    },
    {
      "cell_type": "markdown",
      "source": [
        "Akses Nilai Tup"
      ],
      "metadata": {
        "id": "nUA40bHF8qR3"
      }
    },
    {
      "cell_type": "code",
      "source": [
        "tup1 = ('Gorden', 'Kasur', 2004, 2011)\n",
        "tup2 = (7, 6, 5, 4, 3, 2, 1)\n",
        "\n",
        "print('tup1[1] adalah : ', tup1[1])\n",
        "print('tup2[0:4] adalah : ', tup2[0:4])"
      ],
      "metadata": {
        "colab": {
          "base_uri": "https://localhost:8080/"
        },
        "id": "P-VXjUNK7nya",
        "outputId": "69ae92bc-fcb3-4bec-b41e-565909188fab"
      },
      "execution_count": 1,
      "outputs": [
        {
          "output_type": "stream",
          "name": "stdout",
          "text": [
            "tup1[1] adalah :  Kasur\n",
            "tup2[0:4] adalah :  (7, 6, 5, 4)\n"
          ]
        }
      ]
    },
    {
      "cell_type": "markdown",
      "source": [
        "Update Nilai Tup"
      ],
      "metadata": {
        "id": "ynHqJ-1_8udK"
      }
    },
    {
      "cell_type": "code",
      "source": [
        "tup1 = (11, 14.67)\n",
        "tup2 = ('kripik', 'tempe')\n",
        "\n",
        "tup3 = tup1 + tup2\n",
        "print(tup3)"
      ],
      "metadata": {
        "colab": {
          "base_uri": "https://localhost:8080/"
        },
        "id": "sjzwUeGh8mh6",
        "outputId": "9debd5e5-de37-486e-a30e-29d183808129"
      },
      "execution_count": 2,
      "outputs": [
        {
          "output_type": "stream",
          "name": "stdout",
          "text": [
            "(11, 14.67, 'kripik', 'tempe')\n"
          ]
        }
      ]
    },
    {
      "cell_type": "markdown",
      "source": [
        "Hapus Nilai Tup"
      ],
      "metadata": {
        "id": "viJScTSo9OFb"
      }
    },
    {
      "cell_type": "code",
      "source": [
        "tup = ('Gorden', 'Kasur', 2004, 2011)\n",
        "print(tup)\n",
        "\n",
        "del tup\n",
        "\n",
        "tup = ('Sisir', 'Rambut', 7234)\n",
        "print('Setelah menghapus tup jadi : ', tup)"
      ],
      "metadata": {
        "colab": {
          "base_uri": "https://localhost:8080/"
        },
        "id": "ksueXJDx9R_I",
        "outputId": "54a9ba37-edbb-413c-eb20-bd3a84077841"
      },
      "execution_count": 5,
      "outputs": [
        {
          "output_type": "stream",
          "name": "stdout",
          "text": [
            "('Gorden', 'Kasur', 2004, 2011)\n",
            "Setelah menghapus tup jadi :  ('Sisir', 'Rambut', 7234)\n"
          ]
        }
      ]
    },
    {
      "cell_type": "markdown",
      "source": [
        "Akses Nilai, menggubah, Menambahkan, dan menghapus Dalam Dictionary"
      ],
      "metadata": {
        "id": "PnTs0aUy-AoJ"
      }
    },
    {
      "cell_type": "code",
      "source": [
        "dict = {'Nama' : 'Adit', 'Umur' : 17, 'Jurusan' : 'FTIK'}\n",
        "print('Ini Tampilan Nilai di Dalam Dict',dict)\n",
        "# Menggubah dict\n",
        "dict['Nama'] = 'Farhat';\n",
        "print('Ini Tampilan saat mengubah di Dalam Dict',dict)\n",
        "# Atau Menambah\n",
        "dict['Universitas'] = 'Universitas Semarang'\n",
        "print('Ini Tampilan saat Menghapus di Dalam Dict',dict)\n",
        "# Menghapus\n",
        "del dict['Umur']\n",
        "print(dict)\n",
        "dict.clear() # ini jika ingin menghapus yang ada di dalam dict\n",
        "del dict # ini jika ingin menghapus semua dictionary\n"
      ],
      "metadata": {
        "colab": {
          "base_uri": "https://localhost:8080/"
        },
        "id": "f4Ux8B05-L1o",
        "outputId": "07f9cf27-d8f3-47f0-eb44-12f1b7abb0d4"
      },
      "execution_count": 8,
      "outputs": [
        {
          "output_type": "stream",
          "name": "stdout",
          "text": [
            "Ini Tampilan Nilai di Dalam Dict {'Nama': 'Adit', 'Umur': 17, 'Jurusan': 'FTIK'}\n",
            "Ini Tampilan saat mengubah di Dalam Dict {'Nama': 'Farhat', 'Umur': 17, 'Jurusan': 'FTIK'}\n",
            "Ini Tampilan saat Menghapus di Dalam Dict {'Nama': 'Farhat', 'Umur': 17, 'Jurusan': 'FTIK', 'Universitas': 'Universitas Semarang'}\n",
            "{'Nama': 'Farhat', 'Jurusan': 'FTIK', 'Universitas': 'Universitas Semarang'}\n"
          ]
        }
      ]
    }
  ]
}
