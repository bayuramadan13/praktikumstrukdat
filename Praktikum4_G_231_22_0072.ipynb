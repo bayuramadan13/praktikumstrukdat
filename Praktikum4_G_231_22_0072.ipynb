{
  "nbformat": 4,
  "nbformat_minor": 0,
  "metadata": {
    "colab": {
      "provenance": []
    },
    "kernelspec": {
      "name": "python3",
      "display_name": "Python 3"
    },
    "language_info": {
      "name": "python"
    }
  },
  "cells": [
    {
      "cell_type": "markdown",
      "source": [
        "Contoh Pangram Nama"
      ],
      "metadata": {
        "id": "U2jxjsYRU7-D"
      }
    },
    {
      "cell_type": "code",
      "source": [
        "def is_pangram(name):\n",
        "    name_lower = name.lower()\n",
        "\n",
        "    alphabet_set = set()\n",
        "\n",
        "    for char in name_lower:\n",
        "        if char.isalpha() and char not in alphabet_set:\n",
        "\n",
        "            alphabet_set.add(char)\n",
        "\n",
        "    return len(alphabet_set) == 26\n",
        "\n",
        "nama = \"Bayu Ramadan\"\n",
        "\n",
        "if is_pangram(nama):\n",
        "    print(f\"Wow! Nama {nama} mencakup seluruh alfabet. Sungguh luar biasa!\")\n",
        "else:\n",
        "    print(f\"Sayang sekali, {nama} tidak memuat seluruh alfabet. Yuk coba lagi!\")\n"
      ],
      "metadata": {
        "colab": {
          "base_uri": "https://localhost:8080/"
        },
        "id": "xG6QyA8SjcCl",
        "outputId": "aa0c0c9d-2e33-4c7e-aa27-c8862db2d614"
      },
      "execution_count": 4,
      "outputs": [
        {
          "output_type": "stream",
          "name": "stdout",
          "text": [
            "Sayang sekali, Bayu Ramadan tidak memuat seluruh alfabet. Yuk coba lagi!\n"
          ]
        }
      ]
    },
    {
      "cell_type": "code",
      "source": [
        "# A Python Program to check if the given\n",
        "# string is a pangram or not\n",
        "\n",
        "\n",
        "def checkPangram(s):\n",
        "    List = []\n",
        "# create list of 26 characters and set false each entry\n",
        "    for i in range(26):\n",
        "        List.append(False)\n",
        "    # converting the sentence to lowercase and iterating\n",
        "    # over the sentence\n",
        "    for c in s.lower():\n",
        "        if not c == \" \":\n",
        "\n",
        "            # make the corresponding entry True\n",
        "            List[ord(c) - ord('a')] = True\n",
        "    # check if any character is missing then return False\n",
        "    for ch in List:\n",
        "        if ch == False:\n",
        "            return False\n",
        "    return True\n",
        "\n",
        "# Driver Program to test above functions\n",
        "sentence = \"Foto anak kecil yang lucu adalah saya saat masih kecil\"\n",
        "\n",
        "if (checkPangram(sentence)):\n",
        "    print('\"'+sentence+'\"')\n",
        "    print(\"\\nis a pangram\")\n",
        "else:\n",
        "    print('\"'+sentence+'\"')\n",
        "    print(\"\\nis not a pangram\")"
      ],
      "metadata": {
        "colab": {
          "base_uri": "https://localhost:8080/"
        },
        "id": "TWqck_BKU7i9",
        "outputId": "93db317c-e8cd-4149-dec3-2b716c2f5485"
      },
      "execution_count": 3,
      "outputs": [
        {
          "output_type": "stream",
          "name": "stdout",
          "text": [
            "\"Foto anak kecil yang lucu adalah saya saat masih kecil\"\n",
            "\n",
            "is not a pangram\n"
          ]
        }
      ]
    }
  ]
}