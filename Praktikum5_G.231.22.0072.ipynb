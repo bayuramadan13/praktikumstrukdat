{
  "nbformat": 4,
  "nbformat_minor": 0,
  "metadata": {
    "colab": {
      "provenance": []
    },
    "kernelspec": {
      "name": "python3",
      "display_name": "Python 3"
    },
    "language_info": {
      "name": "python"
    }
  },
  "cells": [
    {
      "cell_type": "code",
      "execution_count": 1,
      "metadata": {
        "colab": {
          "base_uri": "https://localhost:8080/"
        },
        "id": "gaqlIU3Ycc6c",
        "outputId": "e348d88e-b746-4314-a730-0237a34c54aa"
      },
      "outputs": [
        {
          "output_type": "stream",
          "name": "stdout",
          "text": [
            "Array yang sudah diurutkan:\n",
            "11 14 22 35 56 80 84 "
          ]
        }
      ],
      "source": [
        "# Program Python untuk implementasi Bubble Sort\n",
        "\n",
        "# Fungsi untuk melakukan Bubble Sort pada array yang diberikan\n",
        "def bubbleSort(angka):\n",
        "    # Dapatkan panjang array\n",
        "    n = len(angka)\n",
        "\n",
        "    # Traverse melalui semua elemen array\n",
        "    for i in range(n-1):\n",
        "        # Elemen terakhir (n-i-1) sudah terurut, jadi tidak perlu dicek lagi\n",
        "        for j in range(0, n-i-1):\n",
        "            # Tukar jika elemen yang ditemukan lebih besar dari elemen berikutnya\n",
        "            if angka[j] > angka[j + 1]:\n",
        "                angka[j], angka[j + 1] = angka[j + 1], angka[j]\n",
        "\n",
        "# Kode pengujian untuk menjalankan Bubble Sort di atas\n",
        "# Inisialisasi sebuah array\n",
        "angka = [84, 56, 35, 14, 11, 22, 80]\n",
        "\n",
        "# Panggil fungsi bubbleSort\n",
        "bubbleSort(angka)\n",
        "\n",
        "# Cetak array yang sudah diurutkan\n",
        "print(\"Array yang sudah diurutkan:\")\n",
        "for i in range(len(angka)):\n",
        "    print(\"%d\" % angka[i], end=\" \")\n"
      ]
    },
    {
      "cell_type": "code",
      "source": [
        "# Program Python untuk implementasi Selection Sort\n",
        "\n",
        "import sys\n",
        "\n",
        "# Inisialisasi array yang akan diurutkan\n",
        "A = [67, 36, 13, 52, 81]\n",
        "\n",
        "# Iterasi melalui setiap elemen array\n",
        "for i in range(len(A)):\n",
        "    # Inisialisasi indeks minimum\n",
        "    min_idx = i\n",
        "\n",
        "    # Iterasi melalui elemen array yang belum terurut\n",
        "    for j in range(i+1, len(A)):\n",
        "        # Temukan indeks elemen minimum\n",
        "        if A[min_idx] > A[j]:\n",
        "            min_idx = j\n",
        "\n",
        "    # Tukar elemen minimum dengan elemen pertama dari array yang belum terurut\n",
        "    A[i], A[min_idx] = A[min_idx], A[i]\n",
        "\n",
        "# Cetak array yang sudah diurutkan\n",
        "print(\"Array yang sudah diurutkan:\")\n",
        "for i in range(len(A)):\n",
        "    print(\"%d\" % A[i], end=\" \")\n"
      ],
      "metadata": {
        "colab": {
          "base_uri": "https://localhost:8080/"
        },
        "id": "MThn947rcxfP",
        "outputId": "babfce56-8dcc-48ac-f8f8-060cdb11b5a9"
      },
      "execution_count": null,
      "outputs": [
        {
          "output_type": "stream",
          "name": "stdout",
          "text": [
            "Array yang sudah diurutkan:\n",
            "13 36 52 67 81 "
          ]
        }
      ]
    },
    {
      "cell_type": "code",
      "source": [
        "# Fungsi untuk melakukan insertion sort\n",
        "def insertionSort(angka):\n",
        "    # Iterasi mulai dari indeks ke-1 hingga panjang array\n",
        "    for i in range(1, len(angka)):\n",
        "        # Simpan nilai saat ini dalam variabel key\n",
        "        key = angka[i]\n",
        "\n",
        "        # Inisialisasi indeks yang akan dibandingkan dengan key\n",
        "        j = i - 1\n",
        "\n",
        "        # Pindahkan elemen yang lebih besar dari key ke posisi setelahnya\n",
        "        while j >= 0 and key < angka[j]:\n",
        "            angka[j + 1] = angka[j]\n",
        "            j -= 1\n",
        "\n",
        "        # Tempatkan key pada posisi yang benar dalam array terurut\n",
        "        angka[j + 1] = key\n",
        "\n",
        "# Kode pengujian untuk menjalankan insertion sort di atas\n",
        "# Inisialisasi sebuah array\n",
        "angka = [12, 11, 13, 5, 6]\n",
        "\n",
        "# Panggil fungsi insertionSort\n",
        "insertionSort(angka)\n",
        "\n",
        "# Cetak array yang sudah diurutkan\n",
        "print(\"Array yang sudah diurutkan:\")\n",
        "for i in range(len(angka)):\n",
        "    print(\"%d\" % angka[i], end=\" \")\n"
      ],
      "metadata": {
        "colab": {
          "base_uri": "https://localhost:8080/"
        },
        "id": "XLxxeRModq7s",
        "outputId": "538f409d-bdc2-4ef0-bae0-918cc519e542"
      },
      "execution_count": 2,
      "outputs": [
        {
          "output_type": "stream",
          "name": "stdout",
          "text": [
            "Array yang sudah diurutkan:\n",
            "5 6 11 12 13 "
          ]
        }
      ]
    }
  ]
}
